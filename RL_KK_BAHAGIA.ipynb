{
  "nbformat": 4,
  "nbformat_minor": 0,
  "metadata": {
    "colab": {
      "provenance": []
    },
    "kernelspec": {
      "name": "python3",
      "display_name": "Python 3"
    },
    "language_info": {
      "name": "python"
    }
  },
  "cells": [
    {
      "cell_type": "code",
      "execution_count": 1,
      "metadata": {
        "id": "G_eqdAHJlp0e"
      },
      "outputs": [],
      "source": [
        "import numpy as np\n",
        "import pylab as pl\n",
        "import networkx as nx\n",
        "import gym"
      ]
    },
    {
      "cell_type": "code",
      "source": [
        "edges = [(0, 1), (1, 5), (5, 6), (5, 4), (1, 2),\n",
        "\t\t(1, 3), (9, 10), (2, 4), (0, 6), (6, 7),\n",
        "\t\t(8, 9), (7, 8), (1, 7), (3, 9)]\n",
        "\n",
        "goal = 10\n",
        "G = nx.Graph()\n",
        "G.add_edges_from(edges)\n",
        "pos = nx.spring_layout(G)\n",
        "nx.draw_networkx_nodes(G, pos)\n",
        "nx.draw_networkx_edges(G, pos)\n",
        "nx.draw_networkx_labels(G, pos)\n",
        "pl.show()\n"
      ],
      "metadata": {
        "colab": {
          "base_uri": "https://localhost:8080/",
          "height": 248
        },
        "id": "IT99B7NKlrm6",
        "outputId": "3e8e1028-6e35-4575-9864-ef28ec7dd59e"
      },
      "execution_count": 2,
      "outputs": [
        {
          "output_type": "display_data",
          "data": {
            "text/plain": [
              "<Figure size 432x288 with 1 Axes>"
            ],
            "image/png": "[encoded data removed]"
          },
          "metadata": {}
        }
      ]
    },
    {
      "cell_type": "code",
      "source": [
        "MATRIX_SIZE = 11\n",
        "M = np.matrix(np.ones(shape =(MATRIX_SIZE, MATRIX_SIZE)))\n",
        "M *= -1\n",
        "\n",
        "for point in edges:\n",
        "\tprint(point)\n",
        "\tif point[1] == goal:\n",
        "\t\tM[point] = 100\n",
        "\telse:\n",
        "\t\tM[point] = 0\n",
        "\n",
        "\tif point[0] == goal:\n",
        "\t\tM[point[::-1]] = 100\n",
        "\telse:\n",
        "\t\tM[point[::-1]]= 0\n",
        "\n",
        "M[goal, goal]= 100\n",
        "print(M)"
      ],
      "metadata": {
        "colab": {
          "base_uri": "https://localhost:8080/"
        },
        "id": "GvqMZAMIlyCK",
        "outputId": "a8e32d04-b862-4fb2-d43c-f6f018c2c822"
      },
      "execution_count": 3,
      "outputs": [
        {
          "output_type": "stream",
          "name": "stdout",
          "text": [
            "(0, 1)\n",
            "(1, 5)\n",
            "(5, 6)\n",
            "(5, 4)\n",
            "(1, 2)\n",
            "(1, 3)\n",
            "(9, 10)\n",
            "(2, 4)\n",
            "(0, 6)\n",
            "(6, 7)\n",
            "(8, 9)\n",
            "(7, 8)\n",
            "(1, 7)\n",
            "(3, 9)\n",
            "[[ -1.   0.  -1.  -1.  -1.  -1.   0.  -1.  -1.  -1.  -1.]\n",
            " [  0.  -1.   0.   0.  -1.   0.  -1.   0.  -1.  -1.  -1.]\n",
            " [ -1.   0.  -1.  -1.   0.  -1.  -1.  -1.  -1.  -1.  -1.]\n",
            " [ -1.   0.  -1.  -1.  -1.  -1.  -1.  -1.  -1.   0.  -1.]\n",
            " [ -1.  -1.   0.  -1.  -1.   0.  -1.  -1.  -1.  -1.  -1.]\n",
            " [ -1.   0.  -1.  -1.   0.  -1.   0.  -1.  -1.  -1.  -1.]\n",
            " [  0.  -1.  -1.  -1.  -1.   0.  -1.   0.  -1.  -1.  -1.]\n",
            " [ -1.   0.  -1.  -1.  -1.  -1.   0.  -1.   0.  -1.  -1.]\n",
            " [ -1.  -1.  -1.  -1.  -1.  -1.  -1.   0.  -1.   0.  -1.]\n",
            " [ -1.  -1.  -1.   0.  -1.  -1.  -1.  -1.   0.  -1. 100.]\n",
            " [ -1.  -1.  -1.  -1.  -1.  -1.  -1.  -1.  -1.   0. 100.]]\n"
          ]
        }
      ]
    },
    {
      "cell_type": "code",
      "source": [
        "Q = np.matrix(np.zeros([MATRIX_SIZE, MATRIX_SIZE]))\n",
        "\n",
        "gamma = 0.75\n",
        "initial_state = 1\n",
        "\n",
        "def available_actions(state):\n",
        "\tcurrent_state_row = M[state, ]\n",
        "\tavailable_action = np.where(current_state_row >= 0)[1]\n",
        "\treturn available_action\n",
        "\n",
        "available_action = available_actions(initial_state)\n",
        "\n",
        "def sample_next_action(available_actions_range):\n",
        "\tnext_action = int(np.random.choice(available_action, 1))\n",
        "\treturn next_action\n",
        "\n",
        "\n",
        "action = sample_next_action(available_action)\n",
        "\n",
        "def update(current_state, action, gamma):\n",
        "\n",
        "  max_index = np.where(Q[action, ] == np.max(Q[action, ]))[1]\n",
        "  if max_index.shape[0] > 1:\n",
        "    max_index = int(np.random.choice(max_index, size = 1))\n",
        "  else:\n",
        "    max_index = int(max_index)\n",
        "  max_value = Q[action, max_index]\n",
        "  Q[current_state, action] = M[current_state, action] + gamma * max_value\n",
        "  \n",
        "  if (np.max(Q) > 0):\n",
        "    return(np.sum(Q / np.max(Q)*100))\n",
        "  else:\n",
        "    return (0)\n",
        "\n",
        "update(initial_state, action, gamma)"
      ],
      "metadata": {
        "colab": {
          "base_uri": "https://localhost:8080/"
        },
        "id": "dnrOFzCeoB_Q",
        "outputId": "9d63a43b-3621-4d7a-887f-689d3320eb4f"
      },
      "execution_count": 4,
      "outputs": [
        {
          "output_type": "execute_result",
          "data": {
            "text/plain": [
              "0"
            ]
          },
          "metadata": {},
          "execution_count": 4
        }
      ]
    },
    {
      "cell_type": "code",
      "source": [
        "scores = []\n",
        "for i in range(1000):\n",
        "\tcurrent_state = np.random.randint(0, int(Q.shape[0]))\n",
        "\tavailable_action = available_actions(current_state)\n",
        "\taction = sample_next_action(available_action)\n",
        "\tscore = update(current_state, action, gamma)\n",
        "\tscores.append(score)\n",
        "\n",
        "current_state = 0\n",
        "steps = [current_state]\n",
        "\n",
        "while current_state != 10:\n",
        "\n",
        "\tnext_step_index = np.where(Q[current_state, ] == np.max(Q[current_state, ]))[1]\n",
        "\tif next_step_index.shape[0] > 1:\n",
        "\t\tnext_step_index = int(np.random.choice(next_step_index, size = 1))\n",
        "\telse:\n",
        "\t\tnext_step_index = int(next_step_index)\n",
        "\tsteps.append(next_step_index)\n",
        "\tcurrent_state = next_step_index\n",
        "\n",
        "print(\"Most efficient path:\")\n",
        "print(steps)\n",
        "\n",
        "pl.plot(scores)\n",
        "pl.xlabel('No of iterations')\n",
        "pl.ylabel('Reward gained')\n",
        "pl.show()\n"
      ],
      "metadata": {
        "colab": {
          "base_uri": "https://localhost:8080/",
          "height": 317
        },
        "id": "9HyI2JrKqiX0",
        "outputId": "d2e7e8c7-acd9-408d-d1be-365d6dba97cd"
      },
      "execution_count": 5,
      "outputs": [
        {
          "output_type": "stream",
          "name": "stdout",
          "text": [
            "Most efficient path:\n",
            "[0, 1, 3, 9, 10]\n"
          ]
        },
        {
          "output_type": "display_data",
          "data": {
            "text/plain": [
              "<Figure size 432x288 with 1 Axes>"
            ],
            "image/png": "[encoded data removed]"
          },
          "metadata": {
            "needs_background": "light"
          }
        }
      ]
    },
    {
      "cell_type": "code",
      "source": [
        "police = [2, 4, 5]\n",
        "drug_traces = [3, 8, 9]\n",
        "\n",
        "G = nx.Graph()\n",
        "G.add_edges_from(edges)\n",
        "mapping = {0:'0 - Detective', 1:'1', 2:'2 - Police', 3:'3 - Drug traces',\n",
        "\t\t4:'4 - Police', 5:'5 - Police', 6:'6', 7:'7', 8:'Drug traces',\n",
        "\t\t9:'9 - Drug traces', 10:'10 - Drug racket location'}\n",
        "\n",
        "H = nx.relabel_nodes(G, mapping)\n",
        "pos = nx.spring_layout(H)\n",
        "nx.draw_networkx_nodes(H, pos)\n",
        "nx.draw_networkx_edges(H, pos)\n",
        "nx.draw_networkx_labels(H, pos)\n",
        "pl.show()\n"
      ],
      "metadata": {
        "colab": {
          "base_uri": "https://localhost:8080/",
          "height": 248
        },
        "id": "DDd6PMmktXnD",
        "outputId": "364ee8cd-df3b-474e-c1a0-ecd26c6df4c1"
      },
      "execution_count": 6,
      "outputs": [
        {
          "output_type": "display_data",
          "data": {
            "text/plain": [
              "<Figure size 432x288 with 1 Axes>"
            ],
            "image/png": "[encoded data removed]"
          },
          "metadata": {}
        }
      ]
    },
    {
      "cell_type": "code",
      "source": [
        "Q = np.matrix(np.zeros([MATRIX_SIZE, MATRIX_SIZE]))\n",
        "env_police = np.matrix(np.zeros([MATRIX_SIZE, MATRIX_SIZE]))\n",
        "env_drugs = np.matrix(np.zeros([MATRIX_SIZE, MATRIX_SIZE]))\n",
        "initial_state = 1\n",
        "\n",
        "def available_actions(state):\n",
        "\tcurrent_state_row = M[state, ]\n",
        "\tav_action = np.where(current_state_row >= 0)[1]\n",
        "\treturn av_action\n",
        "\n",
        "def sample_next_action(available_actions_range):\n",
        "\tnext_action = int(np.random.choice(available_action, 1))\n",
        "\treturn next_action\n",
        "\n",
        "def collect_environmental_data(action):\n",
        "\tfound = []\n",
        "\tif action in police:\n",
        "\t\tfound.append('p')\n",
        "\tif action in drug_traces:\n",
        "\t\tfound.append('d')\n",
        "\treturn (found)\n",
        "\n",
        "\n",
        "available_action = available_actions(initial_state)\n",
        "action = sample_next_action(available_action)\n",
        "\n",
        "def update(current_state, action, gamma):\n",
        "  max_index = np.where(Q[action, ] == np.max(Q[action, ]))[1]\n",
        "  if max_index.shape[0] > 1:\n",
        "    max_index = int(np.random.choice(max_index, size = 1))\n",
        "  else:\n",
        "    max_index = int(max_index)\n",
        "  max_value = Q[action, max_index]\n",
        "  Q[current_state, action] = M[current_state, action] + gamma * max_value\n",
        "  environment = collect_environmental_data(action)\n",
        "  if 'p' in environment:\n",
        "    env_police[current_state, action] += 1\n",
        "  if 'd' in environment:\n",
        "    env_drugs[current_state, action] += 1\n",
        "  if (np.max(Q) > 0):\n",
        "    return(np.sum(Q / np.max(Q)*100))\n",
        "  else:\n",
        "    return (0)\n",
        "\n",
        "update(initial_state, action, gamma)\n",
        "\n",
        "def available_actions_with_env_help(state):\n",
        "\tcurrent_state_row = M[state, ]\n",
        "\tav_action = np.where(current_state_row >= 0)[1]\n",
        "\n",
        "\tenv_pos_row = env_matrix_snap[state, av_action]\n",
        "\n",
        "\tif (np.sum(env_pos_row < 0)):\n",
        "\t\ttemp_av_action = av_action[np.array(env_pos_row)[0]>= 0]\n",
        "\t\tif len(temp_av_action) > 0:\n",
        "\t\t\tav_action = temp_av_action\n",
        "\treturn av_action"
      ],
      "metadata": {
        "id": "p7Mnmc9GznYd"
      },
      "execution_count": 7,
      "outputs": []
    },
    {
      "cell_type": "code",
      "source": [
        "scores = []\n",
        "for i in range(1000):\n",
        "  current_state = np.random.randint(0, int(Q.shape[0]))\n",
        "  available_action = available_actions(current_state)\n",
        "  action = sample_next_action(available_action)\n",
        "  score = update(current_state, action, gamma)\n",
        "  \n",
        "print('Police Found')\n",
        "print(env_police)\n",
        "print('')\n",
        "print('Drug traces Found')\n",
        "print(env_drugs)"
      ],
      "metadata": {
        "colab": {
          "base_uri": "https://localhost:8080/"
        },
        "id": "XL0KGsenz1PO",
        "outputId": "31714b7e-e7cf-47a0-84e6-5ecfb7a51fcc"
      },
      "execution_count": 8,
      "outputs": [
        {
          "output_type": "stream",
          "name": "stdout",
          "text": [
            "Police Found\n",
            "[[ 0.  0.  0.  0.  0.  0.  0.  0.  0.  0.  0.]\n",
            " [ 0.  0. 16.  0.  0. 17.  0.  0.  0.  0.  0.]\n",
            " [ 0.  0.  0.  0. 44.  0.  0.  0.  0.  0.  0.]\n",
            " [ 0.  0.  0.  0.  0.  0.  0.  0.  0.  0.  0.]\n",
            " [ 0.  0. 36.  0.  0. 52.  0.  0.  0.  0.  0.]\n",
            " [ 0.  0.  0.  0. 33.  0.  0.  0.  0.  0.  0.]\n",
            " [ 0.  0.  0.  0.  0. 24.  0.  0.  0.  0.  0.]\n",
            " [ 0.  0.  0.  0.  0.  0.  0.  0.  0.  0.  0.]\n",
            " [ 0.  0.  0.  0.  0.  0.  0.  0.  0.  0.  0.]\n",
            " [ 0.  0.  0.  0.  0.  0.  0.  0.  0.  0.  0.]\n",
            " [ 0.  0.  0.  0.  0.  0.  0.  0.  0.  0.  0.]]\n",
            "\n",
            "Drug traces Found\n",
            "[[ 0.  0.  0.  0.  0.  0.  0.  0.  0.  0.  0.]\n",
            " [ 0.  0.  0. 20.  0.  0.  0.  0.  0.  0.  0.]\n",
            " [ 0.  0.  0.  0.  0.  0.  0.  0.  0.  0.  0.]\n",
            " [ 0.  0.  0.  0.  0.  0.  0.  0.  0. 51.  0.]\n",
            " [ 0.  0.  0.  0.  0.  0.  0.  0.  0.  0.  0.]\n",
            " [ 0.  0.  0.  0.  0.  0.  0.  0.  0.  0.  0.]\n",
            " [ 0.  0.  0.  0.  0.  0.  0.  0.  0.  0.  0.]\n",
            " [ 0.  0.  0.  0.  0.  0.  0.  0. 19.  0.  0.]\n",
            " [ 0.  0.  0.  0.  0.  0.  0.  0.  0. 47.  0.]\n",
            " [ 0.  0.  0. 29.  0.  0.  0.  0. 27.  0.  0.]\n",
            " [ 0.  0.  0.  0.  0.  0.  0.  0.  0. 40.  0.]]\n"
          ]
        }
      ]
    },
    {
      "cell_type": "code",
      "source": [
        "scores = []\n",
        "for i in range(1000):\n",
        "\tcurrent_state = np.random.randint(0, int(Q.shape[0]))\n",
        "\tavailable_action = available_actions(current_state)\n",
        "\taction = sample_next_action(available_action)\n",
        "\tscore = update(current_state, action, gamma)\n",
        "\tscores.append(score)\n",
        "\n",
        "pl.plot(scores)\n",
        "pl.xlabel('Number of iterations')\n",
        "pl.ylabel('Reward gained')\n",
        "pl.show()"
      ],
      "metadata": {
        "colab": {
          "base_uri": "https://localhost:8080/",
          "height": 290
        },
        "id": "5ERaX5bQ0M4q",
        "outputId": "878943e9-6afe-4173-e013-8d298d1327a9"
      },
      "execution_count": 9,
      "outputs": [
        {
          "output_type": "display_data",
          "data": {
            "text/plain": [
              "<Figure size 432x288 with 1 Axes>"
            ],
            "image/png": "[encoded data removed]"
          },
          "metadata": {
            "needs_background": "light"
          }
        }
      ]
    }
  ]
}